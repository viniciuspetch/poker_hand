{
 "cells": [
  {
   "cell_type": "code",
   "execution_count": 2,
   "metadata": {},
   "outputs": [],
   "source": [
    "# Imports\n",
    "# Numpy, Pandas for data manipulation; OS for input/output; MatPlotLib for plotting; Scikit-Learn\n",
    "import numpy as np\n",
    "import pandas as pd\n",
    "import os\n",
    "import matplotlib.pyplot as plt\n",
    "from sklearn.neighbors import KNeighborsClassifier\n",
    "from sklearn import tree\n",
    "from sklearn.metrics import confusion_matrix"
   ]
  },
  {
   "cell_type": "code",
   "execution_count": 3,
   "metadata": {},
   "outputs": [],
   "source": [
    "columns = [\"c1s\", \"c1n\", \"c2s\", \"c2n\", \"c3s\", \"c3n\", \"c4s\", \"c4n\", \"c5s\", \"c5n\", \"r\"]\n",
    "poker_db_train = pd.read_csv('poker-hand-training-true.data', names=columns)\n",
    "poker_db_test = pd.read_csv('poker-hand-testing.data', names=columns)"
   ]
  },
  {
   "cell_type": "code",
   "execution_count": 19,
   "metadata": {},
   "outputs": [
    {
     "name": "stdout",
     "output_type": "stream",
     "text": [
      "Index(['c1s', 'c1n', 'c2s', 'c2n', 'c3s', 'c3n', 'c4s', 'c4n', 'c5s', 'c5n',\n",
      "       'r'],\n",
      "      dtype='object')\n",
      "(25010, 11)\n",
      "Index(['c1s', 'c1n', 'c2s', 'c2n', 'c3s', 'c3n', 'c4s', 'c4n', 'c5s', 'c5n',\n",
      "       'r'],\n",
      "      dtype='object')\n",
      "(1000000, 11)\n"
     ]
    }
   ],
   "source": [
    "print(poker_db_train.columns)\n",
    "print(poker_db_train.shape)\n",
    "print(poker_db_test.columns)\n",
    "print(poker_db_test.shape)"
   ]
  },
  {
   "cell_type": "code",
   "execution_count": null,
   "metadata": {},
   "outputs": [],
   "source": [
    "for i in poker_db_train.columns:\n",
    "    print(poker_db_train[i].value_counts())"
   ]
  },
  {
   "cell_type": "code",
   "execution_count": 61,
   "metadata": {},
   "outputs": [],
   "source": [
    "x_train = poker_db_train.drop('r', axis=1)\n",
    "y_train= poker_db_train['r']\n",
    "x_test = poker_db_test.drop('r', axis=1)\n",
    "y_test = poker_db_test['r']"
   ]
  },
  {
   "cell_type": "code",
   "execution_count": 66,
   "metadata": {},
   "outputs": [],
   "source": [
    "def knn1(x_train, y_train, x_test, y_test, max_n = 10):\n",
    "    result = []\n",
    "    for i in range(1, max_n):\n",
    "        clf = KNeighborsClassifier(n_neighbors=i)\n",
    "        clf.fit(x_train, y_train)\n",
    "        result.append(clf.score(x_test.iloc[0:1000], y_test.iloc[0:1000]))\n",
    "    return result"
   ]
  },
  {
   "cell_type": "code",
   "execution_count": 16,
   "metadata": {},
   "outputs": [
    {
     "name": "stdout",
     "output_type": "stream",
     "text": [
      "0.5077\n",
      "0.5205\n",
      "0.5365\n",
      "0.5486\n",
      "0.5578\n",
      "0.5605\n",
      "0.5664\n",
      "0.5705\n",
      "0.5725\n",
      "0.573\n"
     ]
    }
   ],
   "source": [
    "for i in range(1, 11):\n",
    "    clf = KNeighborsClassifier(n_neighbors=i, weights='distance')\n",
    "    clf.fit(poker_db_train_x, poker_db_train_y)\n",
    "    print(clf.score(poker_db_test_x.iloc[0:10000], poker_db_test_y.iloc[0:10000]))"
   ]
  },
  {
   "cell_type": "code",
   "execution_count": 8,
   "metadata": {},
   "outputs": [],
   "source": [
    "result = []\n",
    "for i in range(1, 15):\n",
    "    clf = tree.DecisionTreeClassifier(max_depth=i)\n",
    "    clf.fit(poker_db_train_x, poker_db_train_y)\n",
    "    result.append(clf.score(poker_db_test_x.iloc[0:10000], poker_db_test_y.iloc[0:10000]))"
   ]
  },
  {
   "cell_type": "code",
   "execution_count": 9,
   "metadata": {},
   "outputs": [
    {
     "data": {
      "text/plain": [
       "Text(0, 0.5, 'Result')"
      ]
     },
     "execution_count": 9,
     "metadata": {},
     "output_type": "execute_result"
    },
    {
     "data": {
      "image/png": "[encoded data removed]",
      "text/plain": [
       "<Figure size 432x288 with 1 Axes>"
      ]
     },
     "metadata": {
      "needs_background": "light"
     },
     "output_type": "display_data"
    }
   ],
   "source": [
    "plt.plot(result)\n",
    "plt.xlabel(\"Qt\")\n",
    "plt.ylabel(\"Result\")"
   ]
  },
  {
   "cell_type": "code",
   "execution_count": 12,
   "metadata": {},
   "outputs": [],
   "source": [
    "clf = tree.DecisionTreeClassifier(max_depth=6)\n",
    "clf.fit(poker_db_train_x, poker_db_train_y)\n",
    "prediction = clf.predict(poker_db_test_x)"
   ]
  },
  {
   "cell_type": "code",
   "execution_count": 30,
   "metadata": {},
   "outputs": [
    {
     "name": "stdout",
     "output_type": "stream",
     "text": [
      "0    501209\n",
      "1    422498\n",
      "2     47622\n",
      "3     21121\n",
      "4      3885\n",
      "5      1996\n",
      "6      1424\n",
      "7       230\n",
      "8        12\n",
      "9         3\n",
      "Name: r, dtype: int64\n",
      "0.7138060170507712\n",
      "0.37428579543571805\n",
      "0.0004619713577758179\n",
      "0.0030775057999147767\n",
      "0.0\n",
      "0.23446893787575152\n",
      "0.0\n",
      "0.0\n",
      "0.0\n",
      "0.0\n"
     ]
    }
   ],
   "source": [
    "print(poker_db_test_y.value_counts())\n",
    "cm = confusion_matrix(poker_db_test_y, prediction)\n",
    "for i in range(0, 10):\n",
    "    print(cm[i][i]/cm[i].sum())"
   ]
  },
  {
   "cell_type": "code",
   "execution_count": 59,
   "metadata": {},
   "outputs": [],
   "source": [
    "# Add weights to the data, so that numbers and suits have different values\n",
    "def weightTransform(r, df, w, col_list):\n",
    "    if w != 1:\n",
    "        for i in col_list:\n",
    "            if w == 1:\n",
    "                r[i] = df[i]\n",
    "            else:\n",
    "                r[i] = df[i].transform(lambda x: x*w)\n",
    "\n",
    "def weightedData(df, w1=1, w2=1):\n",
    "    r = df.copy()\n",
    "    weightTransform(r, df, w1, ['c1n', 'c2n', 'c3n', 'c4n', 'c5n'])\n",
    "    weightTransform(r, df, w2, ['c1s', 'c2s', 'c3s', 'c4s', 'c5s'])\n",
    "    return r"
   ]
  },
  {
   "cell_type": "code",
   "execution_count": 57,
   "metadata": {},
   "outputs": [
    {
     "data": {
      "text/html": [
       "<div>\n",
       "<style scoped>\n",
       "    .dataframe tbody tr th:only-of-type {\n",
       "        vertical-align: middle;\n",
       "    }\n",
       "\n",
       "    .dataframe tbody tr th {\n",
       "        vertical-align: top;\n",
       "    }\n",
       "\n",
       "    .dataframe thead th {\n",
       "        text-align: right;\n",
       "    }\n",
       "</style>\n",
       "<table border=\"1\" class=\"dataframe\">\n",
       "  <thead>\n",
       "    <tr style=\"text-align: right;\">\n",
       "      <th></th>\n",
       "      <th>c1s</th>\n",
       "      <th>c1n</th>\n",
       "      <th>c2s</th>\n",
       "      <th>c2n</th>\n",
       "      <th>c3s</th>\n",
       "      <th>c3n</th>\n",
       "      <th>c4s</th>\n",
       "      <th>c4n</th>\n",
       "      <th>c5s</th>\n",
       "      <th>c5n</th>\n",
       "    </tr>\n",
       "  </thead>\n",
       "  <tbody>\n",
       "    <tr>\n",
       "      <th>0</th>\n",
       "      <td>9.123</td>\n",
       "      <td>11.50</td>\n",
       "      <td>9.123</td>\n",
       "      <td>12.65</td>\n",
       "      <td>9.123</td>\n",
       "      <td>14.95</td>\n",
       "      <td>9.123</td>\n",
       "      <td>13.80</td>\n",
       "      <td>9.123</td>\n",
       "      <td>1.15</td>\n",
       "    </tr>\n",
       "    <tr>\n",
       "      <th>1</th>\n",
       "      <td>18.246</td>\n",
       "      <td>12.65</td>\n",
       "      <td>18.246</td>\n",
       "      <td>14.95</td>\n",
       "      <td>18.246</td>\n",
       "      <td>11.50</td>\n",
       "      <td>18.246</td>\n",
       "      <td>13.80</td>\n",
       "      <td>18.246</td>\n",
       "      <td>1.15</td>\n",
       "    </tr>\n",
       "    <tr>\n",
       "      <th>2</th>\n",
       "      <td>27.369</td>\n",
       "      <td>13.80</td>\n",
       "      <td>27.369</td>\n",
       "      <td>12.65</td>\n",
       "      <td>27.369</td>\n",
       "      <td>14.95</td>\n",
       "      <td>27.369</td>\n",
       "      <td>11.50</td>\n",
       "      <td>27.369</td>\n",
       "      <td>1.15</td>\n",
       "    </tr>\n",
       "    <tr>\n",
       "      <th>3</th>\n",
       "      <td>36.492</td>\n",
       "      <td>11.50</td>\n",
       "      <td>36.492</td>\n",
       "      <td>12.65</td>\n",
       "      <td>36.492</td>\n",
       "      <td>1.15</td>\n",
       "      <td>36.492</td>\n",
       "      <td>14.95</td>\n",
       "      <td>36.492</td>\n",
       "      <td>13.80</td>\n",
       "    </tr>\n",
       "    <tr>\n",
       "      <th>4</th>\n",
       "      <td>36.492</td>\n",
       "      <td>1.15</td>\n",
       "      <td>36.492</td>\n",
       "      <td>14.95</td>\n",
       "      <td>36.492</td>\n",
       "      <td>13.80</td>\n",
       "      <td>36.492</td>\n",
       "      <td>12.65</td>\n",
       "      <td>36.492</td>\n",
       "      <td>11.50</td>\n",
       "    </tr>\n",
       "  </tbody>\n",
       "</table>\n",
       "</div>"
      ],
      "text/plain": [
       "      c1s    c1n     c2s    c2n     c3s    c3n     c4s    c4n     c5s    c5n\n",
       "0   9.123  11.50   9.123  12.65   9.123  14.95   9.123  13.80   9.123   1.15\n",
       "1  18.246  12.65  18.246  14.95  18.246  11.50  18.246  13.80  18.246   1.15\n",
       "2  27.369  13.80  27.369  12.65  27.369  14.95  27.369  11.50  27.369   1.15\n",
       "3  36.492  11.50  36.492  12.65  36.492   1.15  36.492  14.95  36.492  13.80\n",
       "4  36.492   1.15  36.492  14.95  36.492  13.80  36.492  12.65  36.492  11.50"
      ]
     },
     "execution_count": 57,
     "metadata": {},
     "output_type": "execute_result"
    }
   ],
   "source": [
    "weightedData(x_train, 1.15, 9.123).head()"
   ]
  },
  {
   "cell_type": "code",
   "execution_count": 48,
   "metadata": {},
   "outputs": [
    {
     "name": "stdout",
     "output_type": "stream",
     "text": [
      "    c1s        c1n   c2s        c2n   c3s        c3n   c4s        c4n   c5s  \\\n",
      "0  1.25   1.538462  1.25  20.000000  2.50   6.153846  2.50   4.615385  1.25   \n",
      "1  3.75  18.461538  3.75   3.076923  3.75  16.923077  5.00   7.692308  2.50   \n",
      "2  1.25  13.846154  5.00   9.230769  1.25   6.153846  3.75   3.076923  3.75   \n",
      "3  1.25   6.153846  3.75  20.000000  2.50  20.000000  2.50   1.538462  3.75   \n",
      "4  3.75  15.384615  2.50  10.769231  1.25   3.076923  2.50  16.923077  5.00   \n",
      "\n",
      "         c5n  \n",
      "0  18.461538  \n",
      "1   7.692308  \n",
      "2  13.846154  \n",
      "3   9.230769  \n",
      "4  13.846154  \n"
     ]
    }
   ],
   "source": [
    "x_test_w = x_test.copy()\n",
    "for i in ['c1n', 'c2n', 'c3n', 'c4n', 'c5n']:\n",
    "    x_test_w[i] = x_test[i].transform(lambda x: x/13*20)\n",
    "for i in ['c1s', 'c2s', 'c3s', 'c4s', 'c5s']:\n",
    "    x_test_w[i] = x_test[i].transform(lambda x: x/4*5)\n",
    "print(x_test_w.head())"
   ]
  },
  {
   "cell_type": "code",
   "execution_count": 76,
   "metadata": {},
   "outputs": [
    {
     "name": "stdout",
     "output_type": "stream",
     "text": [
      "[0.568, 0.594, 0.576, 0.576, 0.588, 0.586, 0.575, 0.589, 0.579]\n",
      "[0.566, 0.598, 0.561, 0.575, 0.593, 0.587, 0.578, 0.58, 0.571]\n",
      "[0.568, 0.6, 0.563, 0.569, 0.586, 0.584, 0.574, 0.577, 0.575]\n",
      "[0.567, 0.6, 0.562, 0.568, 0.584, 0.583, 0.574, 0.577, 0.575]\n",
      "[0.567, 0.6, 0.562, 0.568, 0.584, 0.583, 0.574, 0.577, 0.575]\n",
      "[0.567, 0.6, 0.562, 0.568, 0.584, 0.583, 0.574, 0.577, 0.575]\n",
      "[0.567, 0.6, 0.562, 0.568, 0.584, 0.583, 0.574, 0.577, 0.575]\n"
     ]
    },
    {
     "data": {
      "text/plain": [
       "<matplotlib.legend.Legend at 0x19e411124e0>"
      ]
     },
     "execution_count": 76,
     "metadata": {},
     "output_type": "execute_result"
    },
    {
     "data": {
      "image/png": "[encoded data removed]",
      "text/plain": [
       "<Figure size 432x288 with 1 Axes>"
      ]
     },
     "metadata": {
      "needs_background": "light"
     },
     "output_type": "display_data"
    }
   ],
   "source": [
    "fig, ax = plt.subplots()\n",
    "for w in range(3, 10):\n",
    "    result = knn1(weightedData(x_train, w, 1), y_train, weightedData(x_test, w, 1), y_test)\n",
    "    print(result)\n",
    "    ax.plot(result, label=w)\n",
    "ax.legend()"
   ]
  },
  {
   "cell_type": "code",
   "execution_count": 71,
   "metadata": {},
   "outputs": [
    {
     "name": "stdout",
     "output_type": "stream",
     "text": [
      "[0.568, 0.6, 0.563, 0.569, 0.586, 0.584, 0.574, 0.577, 0.575]\n"
     ]
    },
    {
     "data": {
      "text/plain": [
       "[<matplotlib.lines.Line2D at 0x19e2d033518>]"
      ]
     },
     "execution_count": 71,
     "metadata": {},
     "output_type": "execute_result"
    },
    {
     "data": {
      "image/png": "[encoded data removed]",
      "text/plain": [
       "<Figure size 432x288 with 1 Axes>"
      ]
     },
     "metadata": {
      "needs_background": "light"
     },
     "output_type": "display_data"
    }
   ],
   "source": [
    "        result = knn1(weightedData(x_train, 5, 1), y_train, weightedData(x_test, 5, 1), y_test)\n",
    "        print(result)\n",
    "        plt.plot(result, label='asd')"
   ]
  },
  {
   "cell_type": "code",
   "execution_count": 74,
   "metadata": {},
   "outputs": [
    {
     "data": {
      "text/plain": [
       "<matplotlib.legend.Legend at 0x19e2d11d978>"
      ]
     },
     "execution_count": 74,
     "metadata": {},
     "output_type": "execute_result"
    },
    {
     "data": {
      "image/png": "[encoded data removed]",
      "text/plain": [
       "<Figure size 432x288 with 1 Axes>"
      ]
     },
     "metadata": {
      "needs_background": "light"
     },
     "output_type": "display_data"
    }
   ],
   "source": [
    "fig, ax = plt.subplots()\n",
    "ax.plot(result, label=\"asd\")\n",
    "\n",
    "ax.legend()"
   ]
  },
  {
   "cell_type": "code",
   "execution_count": 49,
   "metadata": {},
   "outputs": [
    {
     "name": "stdout",
     "output_type": "stream",
     "text": [
      "0.5154\n",
      "0.5588\n",
      "0.55\n",
      "0.5671\n",
      "0.5606\n",
      "0.5712\n",
      "0.5707\n",
      "0.5797\n",
      "0.5739\n"
     ]
    }
   ],
   "source": [
    "knn1(x_train_w, y_train, x_test_w, y_test)"
   ]
  },
  {
   "cell_type": "code",
   "execution_count": null,
   "metadata": {},
   "outputs": [],
   "source": [
    "1"
   ]
  }
 ],
 "metadata": {
  "kernelspec": {
   "display_name": "Python 3",
   "language": "python",
   "name": "python3"
  }
 },
 "nbformat": 4,
 "nbformat_minor": 2
}
